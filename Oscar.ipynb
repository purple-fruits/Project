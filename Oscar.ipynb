{
 "cells": [
  {
   "attachments": {},
   "cell_type": "markdown",
   "metadata": {},
   "source": [
    "This project is original from Poma Mikhail \n",
    "link: https://www.kaggle.com/code/ambisinistra/visualization-and-analysis-of-oscar-data-by-python "
   ]
  },
  {
   "cell_type": "code",
   "execution_count": 2,
   "metadata": {},
   "outputs": [],
   "source": [
    "#import libraries\n",
    "import numpy as np \n",
    "import pandas as pd \n",
    "\n",
    "import matplotlib.pyplot as plt\n",
    "import seaborn as sns\n",
    "\n",
    "data = pd.read_csv('C:/Users/66959/Desktop/portfolio/project/the_oscar_award.csv')\n",
    "director = pd.read_csv('C:/Users/66959/Desktop/portfolio/project/Oscar_Winners_Director.csv')\n",
    "#The first data doesn't have information about gender and race of director so I added another ones.\n",
    "\n",
    "import warnings\n",
    "warnings.simplefilter(action='ignore', category=FutureWarning)"
   ]
  },
  {
   "attachments": {},
   "cell_type": "markdown",
   "metadata": {},
   "source": [
    "Checking how the data looks "
   ]
  },
  {
   "cell_type": "code",
   "execution_count": 3,
   "metadata": {},
   "outputs": [
    {
     "data": {
      "text/html": [
       "<div>\n",
       "<style scoped>\n",
       "    .dataframe tbody tr th:only-of-type {\n",
       "        vertical-align: middle;\n",
       "    }\n",
       "\n",
       "    .dataframe tbody tr th {\n",
       "        vertical-align: top;\n",
       "    }\n",
       "\n",
       "    .dataframe thead th {\n",
       "        text-align: right;\n",
       "    }\n",
       "</style>\n",
       "<table border=\"1\" class=\"dataframe\">\n",
       "  <thead>\n",
       "    <tr style=\"text-align: right;\">\n",
       "      <th></th>\n",
       "      <th>year_film</th>\n",
       "      <th>year_ceremony</th>\n",
       "      <th>ceremony</th>\n",
       "      <th>category</th>\n",
       "      <th>name</th>\n",
       "      <th>film</th>\n",
       "      <th>winner</th>\n",
       "    </tr>\n",
       "  </thead>\n",
       "  <tbody>\n",
       "    <tr>\n",
       "      <th>0</th>\n",
       "      <td>1927</td>\n",
       "      <td>1928</td>\n",
       "      <td>1</td>\n",
       "      <td>ACTOR</td>\n",
       "      <td>Richard Barthelmess</td>\n",
       "      <td>The Noose</td>\n",
       "      <td>False</td>\n",
       "    </tr>\n",
       "    <tr>\n",
       "      <th>1</th>\n",
       "      <td>1927</td>\n",
       "      <td>1928</td>\n",
       "      <td>1</td>\n",
       "      <td>ACTOR</td>\n",
       "      <td>Emil Jannings</td>\n",
       "      <td>The Last Command</td>\n",
       "      <td>True</td>\n",
       "    </tr>\n",
       "    <tr>\n",
       "      <th>2</th>\n",
       "      <td>1927</td>\n",
       "      <td>1928</td>\n",
       "      <td>1</td>\n",
       "      <td>ACTRESS</td>\n",
       "      <td>Louise Dresser</td>\n",
       "      <td>A Ship Comes In</td>\n",
       "      <td>False</td>\n",
       "    </tr>\n",
       "    <tr>\n",
       "      <th>3</th>\n",
       "      <td>1927</td>\n",
       "      <td>1928</td>\n",
       "      <td>1</td>\n",
       "      <td>ACTRESS</td>\n",
       "      <td>Janet Gaynor</td>\n",
       "      <td>7th Heaven</td>\n",
       "      <td>True</td>\n",
       "    </tr>\n",
       "    <tr>\n",
       "      <th>4</th>\n",
       "      <td>1927</td>\n",
       "      <td>1928</td>\n",
       "      <td>1</td>\n",
       "      <td>ACTRESS</td>\n",
       "      <td>Gloria Swanson</td>\n",
       "      <td>Sadie Thompson</td>\n",
       "      <td>False</td>\n",
       "    </tr>\n",
       "    <tr>\n",
       "      <th>5</th>\n",
       "      <td>1927</td>\n",
       "      <td>1928</td>\n",
       "      <td>1</td>\n",
       "      <td>ART DIRECTION</td>\n",
       "      <td>Rochus Gliese</td>\n",
       "      <td>Sunrise</td>\n",
       "      <td>False</td>\n",
       "    </tr>\n",
       "    <tr>\n",
       "      <th>6</th>\n",
       "      <td>1927</td>\n",
       "      <td>1928</td>\n",
       "      <td>1</td>\n",
       "      <td>ART DIRECTION</td>\n",
       "      <td>William Cameron Menzies</td>\n",
       "      <td>The Dove;</td>\n",
       "      <td>True</td>\n",
       "    </tr>\n",
       "    <tr>\n",
       "      <th>7</th>\n",
       "      <td>1927</td>\n",
       "      <td>1928</td>\n",
       "      <td>1</td>\n",
       "      <td>ART DIRECTION</td>\n",
       "      <td>Harry Oliver</td>\n",
       "      <td>7th Heaven</td>\n",
       "      <td>False</td>\n",
       "    </tr>\n",
       "    <tr>\n",
       "      <th>8</th>\n",
       "      <td>1927</td>\n",
       "      <td>1928</td>\n",
       "      <td>1</td>\n",
       "      <td>CINEMATOGRAPHY</td>\n",
       "      <td>George Barnes</td>\n",
       "      <td>The Devil Dancer;</td>\n",
       "      <td>False</td>\n",
       "    </tr>\n",
       "    <tr>\n",
       "      <th>9</th>\n",
       "      <td>1927</td>\n",
       "      <td>1928</td>\n",
       "      <td>1</td>\n",
       "      <td>CINEMATOGRAPHY</td>\n",
       "      <td>Charles Rosher</td>\n",
       "      <td>Sunrise</td>\n",
       "      <td>True</td>\n",
       "    </tr>\n",
       "  </tbody>\n",
       "</table>\n",
       "</div>"
      ],
      "text/plain": [
       "   year_film  year_ceremony  ceremony        category  \\\n",
       "0       1927           1928         1           ACTOR   \n",
       "1       1927           1928         1           ACTOR   \n",
       "2       1927           1928         1         ACTRESS   \n",
       "3       1927           1928         1         ACTRESS   \n",
       "4       1927           1928         1         ACTRESS   \n",
       "5       1927           1928         1   ART DIRECTION   \n",
       "6       1927           1928         1   ART DIRECTION   \n",
       "7       1927           1928         1   ART DIRECTION   \n",
       "8       1927           1928         1  CINEMATOGRAPHY   \n",
       "9       1927           1928         1  CINEMATOGRAPHY   \n",
       "\n",
       "                      name               film winner  \n",
       "0      Richard Barthelmess          The Noose  False  \n",
       "1            Emil Jannings   The Last Command   True  \n",
       "2           Louise Dresser    A Ship Comes In  False  \n",
       "3             Janet Gaynor         7th Heaven   True  \n",
       "4           Gloria Swanson     Sadie Thompson  False  \n",
       "5            Rochus Gliese            Sunrise  False  \n",
       "6  William Cameron Menzies          The Dove;   True  \n",
       "7             Harry Oliver         7th Heaven  False  \n",
       "8            George Barnes  The Devil Dancer;  False  \n",
       "9           Charles Rosher            Sunrise   True  "
      ]
     },
     "execution_count": 3,
     "metadata": {},
     "output_type": "execute_result"
    }
   ],
   "source": [
    "data.head(10)"
   ]
  },
  {
   "cell_type": "code",
   "execution_count": 4,
   "metadata": {},
   "outputs": [
    {
     "name": "stdout",
     "output_type": "stream",
     "text": [
      "<class 'pandas.core.frame.DataFrame'>\n",
      "RangeIndex: 10759 entries, 0 to 10758\n",
      "Data columns (total 7 columns):\n",
      " #   Column         Non-Null Count  Dtype \n",
      "---  ------         --------------  ----- \n",
      " 0   year_film      10759 non-null  int64 \n",
      " 1   year_ceremony  10759 non-null  int64 \n",
      " 2   ceremony       10759 non-null  int64 \n",
      " 3   category       10759 non-null  object\n",
      " 4   name           10756 non-null  object\n",
      " 5   film           10449 non-null  object\n",
      " 6   winner         10639 non-null  object\n",
      "dtypes: int64(3), object(4)\n",
      "memory usage: 588.5+ KB\n",
      "None\n"
     ]
    }
   ],
   "source": [
    "print(data.info())"
   ]
  },
  {
   "attachments": {},
   "cell_type": "markdown",
   "metadata": {},
   "source": [
    "From the above we knew that the result of Oscar 95th is not come out yet. So, I will delete data from row 10641 to 10760 which is the data of Oscar 95th."
   ]
  },
  {
   "cell_type": "code",
   "execution_count": 5,
   "metadata": {},
   "outputs": [],
   "source": [
    "data = pd.DataFrame(data)\n",
    "oscar =data.drop(data.index[10641:10760])"
   ]
  },
  {
   "cell_type": "code",
   "execution_count": 6,
   "metadata": {},
   "outputs": [
    {
     "name": "stdout",
     "output_type": "stream",
     "text": [
      "<class 'pandas.core.frame.DataFrame'>\n",
      "RangeIndex: 10641 entries, 0 to 10640\n",
      "Data columns (total 7 columns):\n",
      " #   Column         Non-Null Count  Dtype \n",
      "---  ------         --------------  ----- \n",
      " 0   year_film      10641 non-null  int64 \n",
      " 1   year_ceremony  10641 non-null  int64 \n",
      " 2   ceremony       10641 non-null  int64 \n",
      " 3   category       10641 non-null  object\n",
      " 4   name           10638 non-null  object\n",
      " 5   film           10331 non-null  object\n",
      " 6   winner         10639 non-null  object\n",
      "dtypes: int64(3), object(4)\n",
      "memory usage: 582.1+ KB\n"
     ]
    }
   ],
   "source": [
    "oscar.info()"
   ]
  },
  {
   "cell_type": "code",
   "execution_count": 7,
   "metadata": {},
   "outputs": [],
   "source": [
    "oscar['category']=oscar['category'].apply(lambda x:x.strip())\n",
    "oscar['film']=oscar['film'].apply(lambda x: np.NaN if str(x)=='nan' else str(x).strip())\n",
    "\n",
    "oscar['category']=oscar['category'].apply(lambda x:x.capitalize())\n",
    "\n",
    "nameRole=oscar['name'].str.split(',',expand=True)\n",
    "nameRole=nameRole.rename(columns={0:'one_of_the_names'})\n",
    "\n",
    "oscar=pd.concat([oscar,nameRole['one_of_the_names']],axis=1)"
   ]
  },
  {
   "cell_type": "code",
   "execution_count": 18,
   "metadata": {},
   "outputs": [
    {
     "name": "stdout",
     "output_type": "stream",
     "text": [
      "                                               Awards  Nominations  \\\n",
      "film                                                                 \n",
      "Titanic                                            12           16   \n",
      "Ben-Hur                                            11           12   \n",
      "The Lord of the Rings: The Return of the King      11           11   \n",
      "West Side Story                                    11           18   \n",
      "The Last Emperor                                    9            9   \n",
      "\n",
      "                                               Winnin_rate  \n",
      "film                                                        \n",
      "Titanic                                          75.000000  \n",
      "Ben-Hur                                          91.666667  \n",
      "The Lord of the Rings: The Return of the King   100.000000  \n",
      "West Side Story                                  61.111111  \n",
      "The Last Emperor                                100.000000  \n"
     ]
    }
   ],
   "source": [
    "#Film information\n",
    "All_movie=oscar[['film','winner']].groupby(by='film').sum().sort_values(by='winner',ascending=False)\n",
    "All_movie['Awards']=All_movie['winner'].apply(lambda x:int(x))\n",
    "del All_movie['winner']\n",
    "All_movie['Nominations']=oscar[['film','winner']].groupby(by='film').count()\n",
    "All_movie['Winnin_rate']=(All_movie['Awards']/All_movie['Nominations'])*100\n",
    "\n",
    "print(All_movie.head(5))"
   ]
  },
  {
   "cell_type": "code",
   "execution_count": 9,
   "metadata": {},
   "outputs": [
    {
     "data": {
      "image/png": "[encoded data removed]",
      "text/plain": [
       "<Figure size 640x480 with 1 Axes>"
      ]
     },
     "metadata": {},
     "output_type": "display_data"
    }
   ],
   "source": [
    "#Top 10 Nominated Movies\n",
    "nominated_movie=All_movie.sort_values(by='Nominations',ascending=False).head(10)\n",
    "nominated_movie['Diff']=nominated_movie['Nominations']-nominated_movie['Awards']\n",
    "nominated_movie=nominated_movie.sort_values(by='Nominations')\n",
    "vis1=plt.barh(nominated_movie.index.tolist(), nominated_movie['Awards'], 0.5,color = 'gold', label = 'Won')\n",
    "vis1=plt.barh(nominated_movie.index.tolist(), nominated_movie['Diff'],0.5, color = 'silver', left = nominated_movie['Awards'], label = 'Only nominated')\n",
    "\n",
    "plt.xlabel('Number Of Records')\n",
    "plt.ylabel('Movies')\n",
    "\n",
    "plt.xticks(range(0,max(nominated_movie['Nominations']),2))\n",
    "plt.legend(loc='lower right',fontsize=8)\n",
    "plt.title('Top 10 Nominated Movies')\n",
    "\n",
    "plt.show()"
   ]
  },
  {
   "cell_type": "code",
   "execution_count": 10,
   "metadata": {},
   "outputs": [
    {
     "data": {
      "image/png": "[encoded data removed]",
      "text/plain": [
       "<Figure size 640x480 with 1 Axes>"
      ]
     },
     "metadata": {},
     "output_type": "display_data"
    }
   ],
   "source": [
    "#Top 10 Award-winning Movies\n",
    "Award_winning_movie=All_movie.sort_values(by='Awards',ascending=False).head(10)\n",
    "Award_winning_movie=Award_winning_movie.sort_values(by='Awards')\n",
    "movie_name=Award_winning_movie.index.tolist()\n",
    "\n",
    "count_award=Award_winning_movie['Awards'].to_list()\n",
    "\n",
    "\n",
    "vis2= plt.barh(movie_name,count_award,height=0.5, color = 'gold')\n",
    "plt.xlabel('Number Of Records')\n",
    "plt.ylabel('Movies')\n",
    "plt.title('Top 10 Award-winning Movies')\n",
    "plt.xticks(range(0,max(Award_winning_movie['Awards'])+2,2))\n",
    "plt.show()\n"
   ]
  },
  {
   "cell_type": "code",
   "execution_count": 11,
   "metadata": {},
   "outputs": [
    {
     "name": "stdout",
     "output_type": "stream",
     "text": [
      "                                             one_of_the_names  Awards\n",
      "Metro-Goldwyn-Mayer                                        64    12.0\n",
      "Walt Disney                                                60    23.0\n",
      "John Williams                                              44     4.0\n",
      "Warner Bros.                                               43     7.0\n",
      "Alfred Newman                                              41     9.0\n",
      "France                                                     37     9.0\n",
      "Edith Head                                                 34     8.0\n",
      "Art Direction:  Cedric Gibbons                             28     8.0\n",
      "Italy                                                      28    10.0\n",
      "Metro-Goldwyn-Mayer Studio Sound Department                27     8.0\n"
     ]
    }
   ],
   "source": [
    "#winner information\n",
    "nominated_person=oscar['one_of_the_names'].value_counts()\n",
    "nominated_person=pd.DataFrame(nominated_person)\n",
    "\n",
    "nominated_person['Awards']=oscar.loc[oscar.winner==1,['one_of_the_names','winner']].groupby(by='one_of_the_names').count()\n",
    "\n",
    "print(nominated_person.head(10))"
   ]
  },
  {
   "attachments": {},
   "cell_type": "markdown",
   "metadata": {},
   "source": [
    "We'll find top 10 winner ranked by production/individual"
   ]
  },
  {
   "cell_type": "code",
   "execution_count": 12,
   "metadata": {},
   "outputs": [
    {
     "data": {
      "image/png": "[encoded data removed]",
      "text/plain": [
       "<Figure size 640x480 with 1 Axes>"
      ]
     },
     "metadata": {},
     "output_type": "display_data"
    }
   ],
   "source": [
    "#Top 10 Winner\n",
    "topTenAwardsP=nominated_person.sort_values(by='Awards',ascending=False).head(10)\n",
    "topTenAwardsP=topTenAwardsP.sort_values(by='Awards')\n",
    "#print(topTenAwardsP)\n",
    "person_name=topTenAwardsP.index.tolist()\n",
    "\n",
    "count_award=topTenAwardsP['Awards'].to_list()\n",
    "\n",
    "vis2= plt.barh(person_name,count_award,height=0.5, color = 'gold')\n",
    "plt.xlabel('Number Of Record')\n",
    "plt.ylabel('Person Or Organization')\n",
    "plt.title('Top 10 Winner')\n",
    "#plt.xticks(range(0,int(max(topTenAwardsP['Awards']))+2))\n",
    "\n",
    "plt.show()\n"
   ]
  },
  {
   "attachments": {},
   "cell_type": "markdown",
   "metadata": {},
   "source": [
    "The data for this part is about Gender, Race and Director Trends from 1930-2019 which is collect by Priyanka Dobhal"
   ]
  },
  {
   "cell_type": "code",
   "execution_count": 13,
   "metadata": {},
   "outputs": [
    {
     "data": {
      "text/html": [
       "<div>\n",
       "<style scoped>\n",
       "    .dataframe tbody tr th:only-of-type {\n",
       "        vertical-align: middle;\n",
       "    }\n",
       "\n",
       "    .dataframe tbody tr th {\n",
       "        vertical-align: top;\n",
       "    }\n",
       "\n",
       "    .dataframe thead th {\n",
       "        text-align: right;\n",
       "    }\n",
       "</style>\n",
       "<table border=\"1\" class=\"dataframe\">\n",
       "  <thead>\n",
       "    <tr style=\"text-align: right;\">\n",
       "      <th></th>\n",
       "      <th>index</th>\n",
       "      <th>Year</th>\n",
       "      <th>Gender</th>\n",
       "      <th>Race</th>\n",
       "      <th>Director(s)</th>\n",
       "      <th>Film</th>\n",
       "      <th>Nomination/Winner</th>\n",
       "    </tr>\n",
       "  </thead>\n",
       "  <tbody>\n",
       "    <tr>\n",
       "      <th>0</th>\n",
       "      <td>0</td>\n",
       "      <td>1927/28</td>\n",
       "      <td>Male</td>\n",
       "      <td>White</td>\n",
       "      <td>Frank Borzage (Dramatic Picture)</td>\n",
       "      <td>7th Heaven</td>\n",
       "      <td>Winner</td>\n",
       "    </tr>\n",
       "    <tr>\n",
       "      <th>1</th>\n",
       "      <td>1</td>\n",
       "      <td>1927/28</td>\n",
       "      <td>Male</td>\n",
       "      <td>White</td>\n",
       "      <td>Herbert Brenon(Dramatic Picture)</td>\n",
       "      <td>Sorrell and Son</td>\n",
       "      <td>Nomination</td>\n",
       "    </tr>\n",
       "    <tr>\n",
       "      <th>2</th>\n",
       "      <td>2</td>\n",
       "      <td>1927/28</td>\n",
       "      <td>Male</td>\n",
       "      <td>White</td>\n",
       "      <td>King Vidor(Dramatic Picture)</td>\n",
       "      <td>The Crowd</td>\n",
       "      <td>Nomination</td>\n",
       "    </tr>\n",
       "    <tr>\n",
       "      <th>3</th>\n",
       "      <td>3</td>\n",
       "      <td>1927/28</td>\n",
       "      <td>Male</td>\n",
       "      <td>White</td>\n",
       "      <td>Lewis Milestone (Comedy Picture)</td>\n",
       "      <td>Two Arabian Knights</td>\n",
       "      <td>Winner</td>\n",
       "    </tr>\n",
       "    <tr>\n",
       "      <th>4</th>\n",
       "      <td>4</td>\n",
       "      <td>1927/28</td>\n",
       "      <td>Male</td>\n",
       "      <td>White</td>\n",
       "      <td>Ted Wilde(Comedy Picture)</td>\n",
       "      <td>Speedy</td>\n",
       "      <td>Nomination</td>\n",
       "    </tr>\n",
       "    <tr>\n",
       "      <th>5</th>\n",
       "      <td>5</td>\n",
       "      <td>1928/1929</td>\n",
       "      <td>Male</td>\n",
       "      <td>White</td>\n",
       "      <td>Frank Lloyd</td>\n",
       "      <td>The Divine Lady</td>\n",
       "      <td>Winner</td>\n",
       "    </tr>\n",
       "    <tr>\n",
       "      <th>6</th>\n",
       "      <td>6</td>\n",
       "      <td>1928/1929</td>\n",
       "      <td>Male</td>\n",
       "      <td>White</td>\n",
       "      <td>Lionel Barrymore</td>\n",
       "      <td>Madame X</td>\n",
       "      <td>Nomination</td>\n",
       "    </tr>\n",
       "    <tr>\n",
       "      <th>7</th>\n",
       "      <td>7</td>\n",
       "      <td>1928/1929</td>\n",
       "      <td>Male</td>\n",
       "      <td>White</td>\n",
       "      <td>Harry Beaumont</td>\n",
       "      <td>The Broadway Melody</td>\n",
       "      <td>Nomination</td>\n",
       "    </tr>\n",
       "    <tr>\n",
       "      <th>8</th>\n",
       "      <td>8</td>\n",
       "      <td>1928/1929</td>\n",
       "      <td>Male</td>\n",
       "      <td>White</td>\n",
       "      <td>Irving Cummings</td>\n",
       "      <td>In Old Arizona</td>\n",
       "      <td>Nomination</td>\n",
       "    </tr>\n",
       "    <tr>\n",
       "      <th>9</th>\n",
       "      <td>9</td>\n",
       "      <td>1928/1929</td>\n",
       "      <td>Male</td>\n",
       "      <td>White</td>\n",
       "      <td>Frank Lloyd</td>\n",
       "      <td>Drag</td>\n",
       "      <td>Nomination</td>\n",
       "    </tr>\n",
       "  </tbody>\n",
       "</table>\n",
       "</div>"
      ],
      "text/plain": [
       "   index       Year Gender   Race                       Director(s)  \\\n",
       "0      0   1927/28    Male  White  Frank Borzage (Dramatic Picture)   \n",
       "1      1   1927/28    Male  White  Herbert Brenon(Dramatic Picture)   \n",
       "2      2   1927/28    Male  White      King Vidor(Dramatic Picture)   \n",
       "3      3   1927/28    Male  White  Lewis Milestone (Comedy Picture)   \n",
       "4      4   1927/28    Male  White         Ted Wilde(Comedy Picture)   \n",
       "5      5  1928/1929   Male  White                       Frank Lloyd   \n",
       "6      6  1928/1929   Male  White                  Lionel Barrymore   \n",
       "7      7  1928/1929   Male  White                    Harry Beaumont   \n",
       "8      8  1928/1929   Male  White                   Irving Cummings   \n",
       "9      9  1928/1929   Male  White                       Frank Lloyd   \n",
       "\n",
       "                  Film Nomination/Winner  \n",
       "0           7th Heaven            Winner  \n",
       "1      Sorrell and Son        Nomination  \n",
       "2            The Crowd        Nomination  \n",
       "3  Two Arabian Knights            Winner  \n",
       "4               Speedy        Nomination  \n",
       "5      The Divine Lady            Winner  \n",
       "6             Madame X        Nomination  \n",
       "7  The Broadway Melody        Nomination  \n",
       "8       In Old Arizona        Nomination  \n",
       "9                 Drag        Nomination  "
      ]
     },
     "execution_count": 13,
     "metadata": {},
     "output_type": "execute_result"
    }
   ],
   "source": [
    "#Checking how the data looks\n",
    "director.head(10)"
   ]
  },
  {
   "cell_type": "code",
   "execution_count": 14,
   "metadata": {},
   "outputs": [
    {
     "name": "stdout",
     "output_type": "stream",
     "text": [
      "<class 'pandas.core.frame.DataFrame'>\n",
      "RangeIndex: 456 entries, 0 to 455\n",
      "Data columns (total 7 columns):\n",
      " #   Column             Non-Null Count  Dtype \n",
      "---  ------             --------------  ----- \n",
      " 0   index              456 non-null    int64 \n",
      " 1   Year               455 non-null    object\n",
      " 2   Gender             455 non-null    object\n",
      " 3   Race               455 non-null    object\n",
      " 4   Director(s)        455 non-null    object\n",
      " 5   Film               455 non-null    object\n",
      " 6   Nomination/Winner  455 non-null    object\n",
      "dtypes: int64(1), object(6)\n",
      "memory usage: 25.1+ KB\n"
     ]
    }
   ],
   "source": [
    "director.info()"
   ]
  },
  {
   "attachments": {},
   "cell_type": "markdown",
   "metadata": {},
   "source": [
    "By race"
   ]
  },
  {
   "cell_type": "code",
   "execution_count": 15,
   "metadata": {},
   "outputs": [
    {
     "name": "stdout",
     "output_type": "stream",
     "text": [
      " White    449\n",
      "Black      6\n",
      "Name: Race, dtype: int64\n"
     ]
    }
   ],
   "source": [
    "a = director['Race'].value_counts()\n",
    "print('', a)"
   ]
  },
  {
   "attachments": {},
   "cell_type": "markdown",
   "metadata": {},
   "source": [
    "By gender"
   ]
  },
  {
   "cell_type": "code",
   "execution_count": 16,
   "metadata": {},
   "outputs": [
    {
     "name": "stdout",
     "output_type": "stream",
     "text": [
      " Male      450\n",
      "Female      5\n",
      "Name: Gender, dtype: int64\n"
     ]
    }
   ],
   "source": [
    "b = director['Gender'].value_counts()\n",
    "print('', b)"
   ]
  },
  {
   "attachments": {},
   "cell_type": "markdown",
   "metadata": {},
   "source": [
    "What we found isn't surprising that most often the Oscar goes to a white man."
   ]
  }
 ],
 "metadata": {
  "kernelspec": {
   "display_name": "Python 3",
   "language": "python",
   "name": "python3"
  },
  "language_info": {
   "codemirror_mode": {
    "name": "ipython",
    "version": 3
   },
   "file_extension": ".py",
   "mimetype": "text/x-python",
   "name": "python",
   "nbconvert_exporter": "python",
   "pygments_lexer": "ipython3",
   "version": "3.9.13"
  },
  "orig_nbformat": 4
 },
 "nbformat": 4,
 "nbformat_minor": 2
}
